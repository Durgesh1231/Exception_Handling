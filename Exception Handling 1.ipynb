{
 "cells": [
  {
   "cell_type": "markdown",
   "id": "2a114c38-2ae5-4a88-aa00-8672b4e3877c",
   "metadata": {},
   "source": [
    "### Ans 1."
   ]
  },
  {
   "cell_type": "code",
   "execution_count": 1,
   "id": "e3219aab-bbf5-47b1-a778-9710660efa72",
   "metadata": {},
   "outputs": [
    {
     "data": {
      "text/plain": [
       "\"An exception in Python is an event that occurs during the execution of a program, which disrupts the normal flow of the program's instructions. \\nWhen an exceptional situation arises, Python raises an exception, indicating that something unexpected or erroneous has happened. Exceptions can occur\\nfor various reasons, such as invalid input, file not found, division by zero, etc.\\n\\nHere are the differences between exceptions and syntax errors:\\n\\nExceptions:\\n\\nExceptions occur during the execution of a program.\\nThey are runtime errors that happen when the program is running.\\nExamples of exceptions include ZeroDivisionError, TypeError, ValueError, FileNotFoundError, etc.\\n\\n\\nSyntax Errors:\\n\\nSyntax errors occur during the parsing of code before execution.\\nThey are usually caused by violations of the language syntax rules, such as misspelled keywords, missing parentheses, missing colons, etc.\\nSyntax errors prevent the program from being interpreted or compiled successfully.\\n\""
      ]
     },
     "execution_count": 1,
     "metadata": {},
     "output_type": "execute_result"
    }
   ],
   "source": [
    "'''An exception in Python is an event that occurs during the execution of a program, which disrupts the normal flow of the program's instructions. \n",
    "When an exceptional situation arises, Python raises an exception, indicating that something unexpected or erroneous has happened. Exceptions can occur\n",
    "for various reasons, such as invalid input, file not found, division by zero, etc.\n",
    "\n",
    "Here are the differences between exceptions and syntax errors:\n",
    "\n",
    "Exceptions:\n",
    "\n",
    "Exceptions occur during the execution of a program.\n",
    "They are runtime errors that happen when the program is running.\n",
    "Examples of exceptions include ZeroDivisionError, TypeError, ValueError, FileNotFoundError, etc.\n",
    "\n",
    "\n",
    "Syntax Errors:\n",
    "\n",
    "Syntax errors occur during the parsing of code before execution.\n",
    "They are usually caused by violations of the language syntax rules, such as misspelled keywords, missing parentheses, missing colons, etc.\n",
    "Syntax errors prevent the program from being interpreted or compiled successfully.\n",
    "'''\n",
    "\n"
   ]
  },
  {
   "cell_type": "markdown",
   "id": "53f3be55-4214-4f44-b561-f9b53777ac03",
   "metadata": {},
   "source": [
    "### Ans 2."
   ]
  },
  {
   "cell_type": "code",
   "execution_count": 2,
   "id": "a1960840-797e-4710-b6f9-ce906a5954a6",
   "metadata": {},
   "outputs": [
    {
     "ename": "ZeroDivisionError",
     "evalue": "division by zero",
     "output_type": "error",
     "traceback": [
      "\u001b[0;31m---------------------------------------------------------------------------\u001b[0m",
      "\u001b[0;31mZeroDivisionError\u001b[0m                         Traceback (most recent call last)",
      "Cell \u001b[0;32mIn[2], line 22\u001b[0m\n\u001b[1;32m     19\u001b[0m         \u001b[38;5;28mprint\u001b[39m(\u001b[38;5;124m\"\u001b[39m\u001b[38;5;124mValueError occurred:\u001b[39m\u001b[38;5;124m\"\u001b[39m, e)\n\u001b[1;32m     21\u001b[0m \u001b[38;5;28;01mif\u001b[39;00m \u001b[38;5;18m__name__\u001b[39m \u001b[38;5;241m==\u001b[39m \u001b[38;5;124m\"\u001b[39m\u001b[38;5;124m__main__\u001b[39m\u001b[38;5;124m\"\u001b[39m:\n\u001b[0;32m---> 22\u001b[0m     \u001b[43mmain\u001b[49m\u001b[43m(\u001b[49m\u001b[43m)\u001b[49m\n",
      "Cell \u001b[0;32mIn[2], line 16\u001b[0m, in \u001b[0;36mmain\u001b[0;34m()\u001b[0m\n\u001b[1;32m     14\u001b[0m \u001b[38;5;28;01mdef\u001b[39;00m \u001b[38;5;21mmain\u001b[39m():\n\u001b[1;32m     15\u001b[0m     \u001b[38;5;28;01mtry\u001b[39;00m:\n\u001b[0;32m---> 16\u001b[0m         result \u001b[38;5;241m=\u001b[39m \u001b[43mdivide\u001b[49m\u001b[43m(\u001b[49m\u001b[38;5;241;43m10\u001b[39;49m\u001b[43m,\u001b[49m\u001b[43m \u001b[49m\u001b[38;5;241;43m0\u001b[39;49m\u001b[43m)\u001b[49m  \u001b[38;5;66;03m# This will raise a ZeroDivisionError\u001b[39;00m\n\u001b[1;32m     17\u001b[0m         \u001b[38;5;28mprint\u001b[39m(\u001b[38;5;124m\"\u001b[39m\u001b[38;5;124mResult:\u001b[39m\u001b[38;5;124m\"\u001b[39m, result)\n\u001b[1;32m     18\u001b[0m     \u001b[38;5;28;01mexcept\u001b[39;00m \u001b[38;5;167;01mValueError\u001b[39;00m \u001b[38;5;28;01mas\u001b[39;00m e:\n",
      "Cell \u001b[0;32mIn[2], line 12\u001b[0m, in \u001b[0;36mdivide\u001b[0;34m(x, y)\u001b[0m\n\u001b[1;32m     11\u001b[0m \u001b[38;5;28;01mdef\u001b[39;00m \u001b[38;5;21mdivide\u001b[39m(x, y):\n\u001b[0;32m---> 12\u001b[0m     \u001b[38;5;28;01mreturn\u001b[39;00m \u001b[43mx\u001b[49m\u001b[43m \u001b[49m\u001b[38;5;241;43m/\u001b[39;49m\u001b[43m \u001b[49m\u001b[43my\u001b[49m\n",
      "\u001b[0;31mZeroDivisionError\u001b[0m: division by zero"
     ]
    }
   ],
   "source": [
    "'''\n",
    "\n",
    "When an exception is not handled, it propagates up the call stack until it reaches the highest level of the program (usually the main function), \n",
    "and if it is not handled there, it results in the termination of the program. This means that if an exception occurs in a function and is not \n",
    "caught and handled within that function or any of its calling functions, it will continue to propagate upward until it reaches the top-level scope,\n",
    "and if not handled there, it will cause the program to crash.\n",
    "'''\n",
    "\n",
    "#Example\n",
    "\n",
    "def divide(x, y):\n",
    "    return x / y\n",
    "\n",
    "def main():\n",
    "    try:\n",
    "        result = divide(10, 0)  # This will raise a ZeroDivisionError\n",
    "        print(\"Result:\", result)\n",
    "    except ValueError as e:\n",
    "        print(\"ValueError occurred:\", e)\n",
    "\n",
    "if __name__ == \"__main__\":\n",
    "    main()\n"
   ]
  },
  {
   "cell_type": "markdown",
   "id": "33348d16-4e3d-414b-b886-d22b481c7d25",
   "metadata": {},
   "source": [
    "### Ans 3"
   ]
  },
  {
   "cell_type": "markdown",
   "id": "bbcc6c45-cb64-4ca6-9faf-49bd697e2de9",
   "metadata": {},
   "source": [
    "'''\n",
    "\n",
    "Python provides two main statements for catching and handling exceptions:\n",
    "\n",
    "1.try-except block:\n",
    "\n",
    "The try-except block is used to catch and handle exceptions in Python.\n",
    "It allows you to specify a block of code that may raise exceptions, and provides a mechanism for handling those exceptions gracefully.\n",
    "\n",
    "syntax\n",
    "\n",
    "try:\n",
    "    # Code that may raise an exception\n",
    "except ExceptionType:\n",
    "    # Code to handle the exception\n",
    "\n",
    "\n",
    "2.try-except-finally block:\n",
    "\n",
    "The try-except-finally block is similar to the try-except block but includes an optional finally block.\n",
    "The finally block is always executed regardless of whether an exception occurs or not.\n",
    "\n",
    "Syntax\n",
    "\n",
    "try:\n",
    "    # Code that may raise an exception\n",
    "except ExceptionType:\n",
    "    # Code to handle the exception\n",
    "finally:\n",
    "    # Code that always executes, whether an exception occurs or not\n",
    "    \n",
    "    '''\n"
   ]
  },
  {
   "cell_type": "markdown",
   "id": "0e05d473-960e-4376-8f29-c6eb30fc2bff",
   "metadata": {},
   "source": [
    "### Ans 4."
   ]
  },
  {
   "cell_type": "code",
   "execution_count": 5,
   "id": "2b49dbac-05ed-4d0c-b4be-1b981a9be03b",
   "metadata": {},
   "outputs": [
    {
     "name": "stdout",
     "output_type": "stream",
     "text": [
      "Division successful. Result: 5.0\n",
      "Finally block executed.\n"
     ]
    }
   ],
   "source": [
    "'''\n",
    "\n",
    "Certainly! Let's break down the try, except, else, and finally blocks with an example:'''\n",
    "\n",
    "try:\n",
    "    # Code that may raise an exception\n",
    "    result = 10 / 2  # This will not raise a ZeroDivisionError\n",
    "except ZeroDivisionError:\n",
    "    # Code to handle the exception\n",
    "    print(\"Error: Division by zero!\")\n",
    "else:\n",
    "    # Code that executes if no exception occurs\n",
    "    print(\"Division successful. Result:\", result)\n",
    "finally:\n",
    "    # Code that always executes, whether an exception occurs or not\n",
    "    print(\"Finally block executed.\")\n"
   ]
  },
  {
   "cell_type": "markdown",
   "id": "bed10dc8-786f-40db-b3e4-a77b749ca119",
   "metadata": {},
   "source": [
    "### Ans 5.\n",
    "\n"
   ]
  },
  {
   "cell_type": "code",
   "execution_count": 6,
   "id": "090e26ec-d082-474f-8916-401e075049b9",
   "metadata": {},
   "outputs": [
    {
     "name": "stdout",
     "output_type": "stream",
     "text": [
      "Error: Not enough balance (100) to withdraw 200\n"
     ]
    }
   ],
   "source": [
    "'''\n",
    "\n",
    "Custom exceptions, also known as user-defined exceptions, are exceptions that are defined by the programmer rather than built-in exceptions\n",
    "provided by Python. They allow developers to create their own types of exceptions tailored to specific error conditions in their programs.\n",
    "\n",
    "Why do we need Custom Exceptions?\n",
    "1.Specific Error Handling\n",
    "2.Code Readability\n",
    "3.Centralized Error Handling\n",
    "4.Separation of Concerns\n",
    "'''\n",
    "#Example\n",
    "\n",
    "class WithdrawalError(Exception):\n",
    "    \"\"\"Exception raised for errors related to withdrawal.\"\"\"\n",
    "\n",
    "    def __init__(self, balance, amount):\n",
    "        self.balance = balance\n",
    "        self.amount = amount\n",
    "        super().__init__(f\"Not enough balance ({balance}) to withdraw {amount}\")\n",
    "\n",
    "def withdraw(balance, amount):\n",
    "    if balance < amount:\n",
    "        raise WithdrawalError(balance, amount)\n",
    "    return balance - amount\n",
    "\n",
    "try:\n",
    "    balance = 100\n",
    "    withdraw_amount = 200\n",
    "    new_balance = withdraw(balance, withdraw_amount)\n",
    "    print(f\"Withdrawal successful. New balance: {new_balance}\")\n",
    "except WithdrawalError as e:\n",
    "    print(f\"Error: {e}\")\n",
    "\n",
    "\n"
   ]
  },
  {
   "cell_type": "code",
   "execution_count": null,
   "id": "0755ff64-e876-4bfc-a74f-2e280eb189ff",
   "metadata": {},
   "outputs": [],
   "source": []
  }
 ],
 "metadata": {
  "kernelspec": {
   "display_name": "Python 3 (ipykernel)",
   "language": "python",
   "name": "python3"
  },
  "language_info": {
   "codemirror_mode": {
    "name": "ipython",
    "version": 3
   },
   "file_extension": ".py",
   "mimetype": "text/x-python",
   "name": "python",
   "nbconvert_exporter": "python",
   "pygments_lexer": "ipython3",
   "version": "3.10.8"
  }
 },
 "nbformat": 4,
 "nbformat_minor": 5
}
